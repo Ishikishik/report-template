{
 "cells": [
  {
   "cell_type": "markdown",
   "metadata": {},
   "source": [
    "https://qiita.com/aurueps/items/d04a3bb127e2d6e6c21b\n"
   ]
  },
  {
   "cell_type": "code",
   "execution_count": 1,
   "metadata": {},
   "outputs": [
    {
     "name": "stderr",
     "output_type": "stream",
     "text": [
      "No artists with labels found to put in legend.  Note that artists whose label start with an underscore are ignored when legend() is called with no argument.\n"
     ]
    },
    {
     "data": {
      "image/png": "[encoded data removed]",
      "text/plain": [
       "<Figure size 640x480 with 1 Axes>"
      ]
     },
     "metadata": {},
     "output_type": "display_data"
    }
   ],
   "source": [
    "import matplotlib.pyplot as plt\n",
    "import numpy as np\n",
    "from matplotlib import rcParams\n",
    "\n",
    "# フォント設定\n",
    "rcParams['font.family'] = 'sans-serif'\n",
    "rcParams['font.sans-serif'] = ['Hiragino Maru Gothic Pro', 'Yu Gothic', 'Meirio', 'Takao', 'IPAexGothic', 'IPAPGothic', 'VL PGothic', 'Noto Sans CJK JP']\n",
    "plt.rcParams[\"text.usetex\"] = True\n",
    "\n",
    "# サンプルデータの準備\n",
    "x = np.array([1, 2, 3, 4, 5])\n",
    "y = np.array([190, 382, 10000, 750, 950])\n",
    "\n",
    "# 散布図のプロット\n",
    "plt.scatter(x, y, color='black', s=5)\n",
    "\n",
    "# メモリの向き\n",
    "plt.rcParams['xtick.direction'] = 'in'\n",
    "plt.rcParams['ytick.direction'] = 'in'\n",
    "\n",
    "# 隣り合うデータ同士を線で結ぶ\n",
    "#plt.plot(x, y, color='gray', linestyle='-', linewidth=0.8)\n",
    "\n",
    "# 近似直線を最小二乗法で計算\n",
    "slope, intercept = np.polyfit(x, y, 1)\n",
    "y_fit = slope * x + intercept\n",
    "# 近似直線のプロット\n",
    "plt.plot(x, y_fit, color='gray', linewidth=0.8)\n",
    "\n",
    "# 近似直線の式をグラフに表示\n",
    "equation_text = f\"$f = {slope:.1f}j + {intercept:.2f}$\"\n",
    "plt.text(3, 400, equation_text, fontsize=10, color=\"black\")  # テキストの位置を調整\n",
    "\n",
    "# グラフのタイトルやラベルを日本語で設定\n",
    "plt.xlabel(\"$j$\")\n",
    "plt.ylabel(\"$f$/Hz\")\n",
    "plt.legend()\n",
    "\n",
    "# グラフをPNGファイルとして保存\n",
    "plt.savefig(\"mokushi.png\", format=\"png\", dpi=300)\n",
    "\n",
    "# 表示\n",
    "plt.show()\n",
    "\n"
   ]
  }
 ],
 "metadata": {
  "kernelspec": {
   "display_name": "Python 3",
   "language": "python",
   "name": "python3"
  },
  "language_info": {
   "codemirror_mode": {
    "name": "ipython",
    "version": 3
   },
   "file_extension": ".py",
   "mimetype": "text/x-python",
   "name": "python",
   "nbconvert_exporter": "python",
   "pygments_lexer": "ipython3",
   "version": "3.12.4"
  }
 },
 "nbformat": 4,
 "nbformat_minor": 2
}
